{
 "cells": [
  {
   "cell_type": "markdown",
   "id": "bf08b00f",
   "metadata": {},
   "source": [
    "# Test De personnalité"
   ]
  },
  {
   "cell_type": "markdown",
   "id": "d18356d0",
   "metadata": {},
   "source": [
    "Comment réagissez-vous sous la pression ?"
   ]
  },
  {
   "cell_type": "raw",
   "id": "95851230",
   "metadata": {},
   "source": [
    "Choisissez parmi les trois alternatives possibles, celle qui, personnellement, répond le mieux à la question ou à l’affirmation présentée dans l’énoncé."
   ]
  },
  {
   "cell_type": "code",
   "execution_count": null,
   "id": "1599264e",
   "metadata": {},
   "outputs": [],
   "source": [
    "%run Test.py"
   ]
  },
  {
   "cell_type": "code",
   "execution_count": null,
   "id": "d4fcde47",
   "metadata": {},
   "outputs": [],
   "source": [
    "%run aggreg.py"
   ]
  },
  {
   "cell_type": "markdown",
   "id": "2a334376",
   "metadata": {},
   "source": [
    "## Imports"
   ]
  },
  {
   "cell_type": "code",
   "execution_count": 146,
   "id": "fe660309",
   "metadata": {},
   "outputs": [],
   "source": [
    "import pandas as pd\n",
    "import numpy as np\n",
    "from sklearn.model_selection import train_test_split\n",
    "import algo_knn\n",
    "import matplotlib.pyplot as plt\n",
    "import itertools\n",
    "import threading\n",
    "import time\n",
    "import sys\n"
   ]
  },
  {
   "cell_type": "markdown",
   "id": "4ab62ed2",
   "metadata": {},
   "source": [
    "## Traitement des données"
   ]
  },
  {
   "cell_type": "code",
   "execution_count": 147,
   "id": "0423d50a",
   "metadata": {},
   "outputs": [
    {
     "data": {
      "text/html": [
       "<div>\n",
       "<style scoped>\n",
       "    .dataframe tbody tr th:only-of-type {\n",
       "        vertical-align: middle;\n",
       "    }\n",
       "\n",
       "    .dataframe tbody tr th {\n",
       "        vertical-align: top;\n",
       "    }\n",
       "\n",
       "    .dataframe thead th {\n",
       "        text-align: right;\n",
       "    }\n",
       "</style>\n",
       "<table border=\"1\" class=\"dataframe\">\n",
       "  <thead>\n",
       "    <tr style=\"text-align: right;\">\n",
       "      <th></th>\n",
       "      <th>Q1</th>\n",
       "      <th>Q2</th>\n",
       "      <th>Q3</th>\n",
       "      <th>Q4</th>\n",
       "      <th>Q5</th>\n",
       "      <th>Q6</th>\n",
       "      <th>Q7</th>\n",
       "      <th>Q8</th>\n",
       "      <th>Q9</th>\n",
       "      <th>Q10</th>\n",
       "      <th>Score</th>\n",
       "      <th>Interpretation</th>\n",
       "    </tr>\n",
       "  </thead>\n",
       "  <tbody>\n",
       "    <tr>\n",
       "      <th>0</th>\n",
       "      <td>a</td>\n",
       "      <td>a</td>\n",
       "      <td>a</td>\n",
       "      <td>a</td>\n",
       "      <td>a</td>\n",
       "      <td>1</td>\n",
       "      <td>1</td>\n",
       "      <td>1</td>\n",
       "      <td>1</td>\n",
       "      <td>1</td>\n",
       "      <td>10</td>\n",
       "      <td>B</td>\n",
       "    </tr>\n",
       "    <tr>\n",
       "      <th>1</th>\n",
       "      <td>b</td>\n",
       "      <td>b</td>\n",
       "      <td>b</td>\n",
       "      <td>b</td>\n",
       "      <td>b</td>\n",
       "      <td>2</td>\n",
       "      <td>2</td>\n",
       "      <td>2</td>\n",
       "      <td>2</td>\n",
       "      <td>2</td>\n",
       "      <td>0</td>\n",
       "      <td>C</td>\n",
       "    </tr>\n",
       "    <tr>\n",
       "      <th>2</th>\n",
       "      <td>c</td>\n",
       "      <td>c</td>\n",
       "      <td>c</td>\n",
       "      <td>c</td>\n",
       "      <td>c</td>\n",
       "      <td>3</td>\n",
       "      <td>3</td>\n",
       "      <td>3</td>\n",
       "      <td>3</td>\n",
       "      <td>3</td>\n",
       "      <td>20</td>\n",
       "      <td>A</td>\n",
       "    </tr>\n",
       "    <tr>\n",
       "      <th>3</th>\n",
       "      <td>a</td>\n",
       "      <td>b</td>\n",
       "      <td>c</td>\n",
       "      <td>a</td>\n",
       "      <td>b</td>\n",
       "      <td>1</td>\n",
       "      <td>2</td>\n",
       "      <td>3</td>\n",
       "      <td>1</td>\n",
       "      <td>2</td>\n",
       "      <td>8</td>\n",
       "      <td>C</td>\n",
       "    </tr>\n",
       "    <tr>\n",
       "      <th>4</th>\n",
       "      <td>b</td>\n",
       "      <td>c</td>\n",
       "      <td>a</td>\n",
       "      <td>c</td>\n",
       "      <td>a</td>\n",
       "      <td>3</td>\n",
       "      <td>2</td>\n",
       "      <td>3</td>\n",
       "      <td>1</td>\n",
       "      <td>2</td>\n",
       "      <td>11</td>\n",
       "      <td>B</td>\n",
       "    </tr>\n",
       "  </tbody>\n",
       "</table>\n",
       "</div>"
      ],
      "text/plain": [
       "  Q1 Q2 Q3 Q4 Q5 Q6 Q7 Q8 Q9 Q10  Score Interpretation\n",
       "0  a  a  a  a  a  1  1  1  1   1     10              B\n",
       "1  b  b  b  b  b  2  2  2  2   2      0              C\n",
       "2  c  c  c  c  c  3  3  3  3   3     20              A\n",
       "3  a  b  c  a  b  1  2  3  1   2      8              C\n",
       "4  b  c  a  c  a  3  2  3  1   2     11              B"
      ]
     },
     "execution_count": 147,
     "metadata": {},
     "output_type": "execute_result"
    }
   ],
   "source": [
    "df = pd.read_csv('DataSet__DataSet_complet__.csv')\n",
    "df.head(5)"
   ]
  },
  {
   "cell_type": "code",
   "execution_count": 148,
   "id": "2f674dc9",
   "metadata": {},
   "outputs": [
    {
     "data": {
      "text/plain": [
       "Index(['Q1', 'Q2', 'Q3', 'Q4', 'Q5', 'Q6', 'Q7', 'Q8', 'Q9', 'Q10', 'Score',\n",
       "       'Interpretation'],\n",
       "      dtype='object')"
      ]
     },
     "execution_count": 148,
     "metadata": {},
     "output_type": "execute_result"
    }
   ],
   "source": [
    "list_col = df.columns\n",
    "list_col"
   ]
  },
  {
   "cell_type": "code",
   "execution_count": 149,
   "id": "9fe9d729",
   "metadata": {},
   "outputs": [
    {
     "data": {
      "text/plain": [
       "(215, 12)"
      ]
     },
     "execution_count": 149,
     "metadata": {},
     "output_type": "execute_result"
    }
   ],
   "source": [
    "df.shape"
   ]
  },
  {
   "cell_type": "code",
   "execution_count": 150,
   "id": "61d40f7c",
   "metadata": {},
   "outputs": [
    {
     "name": "stdout",
     "output_type": "stream",
     "text": [
      "Q1 : 8\n",
      "Q2 : 12\n",
      "Q3 : 13\n",
      "Q4 : 9\n",
      "Q5 : 14\n",
      "Q6 : 12\n",
      "Q7 : 10\n",
      "Q8 : 12\n",
      "Q9 : 10\n",
      "Q10 : 8\n",
      "Score : 0\n",
      "Interpretation : 0\n"
     ]
    },
    {
     "data": {
      "text/plain": [
       "<bound method NDFrame.describe of     Q1 Q2   Q3   Q4   Q5   Q6   Q7   Q8 Q9 Q10  Score Interpretation\n",
       "0    a  a    a    a    a    1    1    1  1   1     10              B\n",
       "1    b  b    b    b    b    2    2    2  2   2      0              C\n",
       "2    c  c    c    c    c    3    3    3  3   3     20              A\n",
       "3    a  b    c    a    b    1    2    3  1   2      8              C\n",
       "4    b  c    a    c    a    3    2    3  1   2     11              B\n",
       "..  .. ..  ...  ...  ...  ...  ...  ... ..  ..    ...            ...\n",
       "210  c  c  NaN    c    c  NaN  NaN  3.0  3   3     14              B\n",
       "211  b  a    c  NaN    b  NaN  2.0  NaN  3   2      5              C\n",
       "212  a  c    b  NaN  NaN  1.0  NaN  3.0  2   3      8              C\n",
       "213  a  n    e    a    b    v    t    Y  '   1      3              C\n",
       "214  A  b    c   lk    k    n    2    0  5   3      4              C\n",
       "\n",
       "[215 rows x 12 columns]>"
      ]
     },
     "execution_count": 150,
     "metadata": {},
     "output_type": "execute_result"
    }
   ],
   "source": [
    "l = df.columns\n",
    "for i in l :\n",
    "    print(i, ':', df[i].isnull().sum().sum())\n",
    "df.describe"
   ]
  },
  {
   "cell_type": "code",
   "execution_count": 151,
   "id": "83aba338",
   "metadata": {},
   "outputs": [
    {
     "name": "stdout",
     "output_type": "stream",
     "text": [
      "Q1\n",
      "Q2\n",
      "Q3\n",
      "Q4\n",
      "Q5\n",
      "Q6\n",
      "Q7\n",
      "Q8\n",
      "Q9\n",
      "Q10\n"
     ]
    },
    {
     "name": "stderr",
     "output_type": "stream",
     "text": [
      "C:\\Users\\UTILIS~1\\AppData\\Local\\Temp/ipykernel_2656/1898599723.py:7: SettingWithCopyWarning: \n",
      "A value is trying to be set on a copy of a slice from a DataFrame\n",
      "\n",
      "See the caveats in the documentation: https://pandas.pydata.org/pandas-docs/stable/user_guide/indexing.html#returning-a-view-versus-a-copy\n",
      "  df[i][j] = None\n"
     ]
    },
    {
     "data": {
      "text/plain": [
       "<bound method NDFrame.describe of        Q1    Q2    Q3    Q4    Q5    Q6    Q7    Q8    Q9 Q10  Score  \\\n",
       "0       a     a     a     a     a     1     1     1     1   1     10   \n",
       "1       b     b     b     b     b     2     2     2     2   2      0   \n",
       "2       c     c     c     c     c     3     3     3     3   3     20   \n",
       "3       a     b     c     a     b     1     2     3     1   2      8   \n",
       "4       b     c     a     c     a     3     2     3     1   2     11   \n",
       "..    ...   ...   ...   ...   ...   ...   ...   ...   ...  ..    ...   \n",
       "210     c     c  None     c     c  None  None  None     3   3     14   \n",
       "211     b     a     c  None     b  None  None  None     3   2      5   \n",
       "212     a     c     b  None  None  None  None  None     2   3      8   \n",
       "213     a  None  None     a     b  None  None  None  None   1      3   \n",
       "214  None     b     c  None  None  None     2  None  None   3      4   \n",
       "\n",
       "    Interpretation  \n",
       "0                B  \n",
       "1                C  \n",
       "2                A  \n",
       "3                C  \n",
       "4                B  \n",
       "..             ...  \n",
       "210              B  \n",
       "211              C  \n",
       "212              C  \n",
       "213              C  \n",
       "214              C  \n",
       "\n",
       "[215 rows x 12 columns]>"
      ]
     },
     "execution_count": 151,
     "metadata": {},
     "output_type": "execute_result"
    }
   ],
   "source": [
    "df.describe\n",
    "l = ['Q1', 'Q2', 'Q3', 'Q4', 'Q5', 'Q6', 'Q7', 'Q8', 'Q9', 'Q10']\n",
    "for i in l :\n",
    "    print(i)\n",
    "    for j in range(215):\n",
    "        if not df[i][j] in ['a', 'b', 'c', '1', '2', '3'] :\n",
    "            df[i][j] = None\n",
    "\n",
    "df.describe"
   ]
  },
  {
   "cell_type": "code",
   "execution_count": 152,
   "id": "8232725f",
   "metadata": {},
   "outputs": [],
   "source": [
    "#remplacement des données manquante plutot qu'une suppression pour avoir une quantité de données plus conscéquente\n",
    "df=df.fillna('b')"
   ]
  },
  {
   "cell_type": "code",
   "execution_count": 153,
   "id": "2151f046",
   "metadata": {},
   "outputs": [
    {
     "name": "stdout",
     "output_type": "stream",
     "text": [
      "range(0, 215)\n",
      "(215, 12)\n",
      "Int64Index([  0,   1,   2,   3,   4,   5,   6,   7,   8,   9,\n",
      "            ...\n",
      "            205, 206, 207, 208, 209, 210, 211, 212, 213, 214],\n",
      "           dtype='int64', length=215)\n"
     ]
    }
   ],
   "source": [
    "n = len(df['Q1'])\n",
    "l = range(n)\n",
    "print(l)\n",
    "df=df.reindex(l)\n",
    "df=df.dropna()\n",
    "df.describe\n",
    "print(df.shape)\n",
    "print(df.index)"
   ]
  },
  {
   "cell_type": "code",
   "execution_count": 158,
   "id": "d37d9802",
   "metadata": {},
   "outputs": [
    {
     "data": {
      "text/plain": [
       "<bound method NDFrame.describe of     Q1 Q2 Q3 Q4 Q5 Q6 Q7 Q8 Q9 Q10  Score Interpretation\n",
       "0    1  1  1  1  1  1  1  1  1   1     10              2\n",
       "1    2  2  2  2  2  2  2  2  2   2      0              3\n",
       "2    3  3  3  3  3  3  3  3  3   3     20              1\n",
       "3    1  2  3  1  2  1  2  3  1   2      8              3\n",
       "4    2  3  1  3  1  3  2  3  1   2     11              2\n",
       "..  .. .. .. .. .. .. .. .. ..  ..    ...            ...\n",
       "210  3  3  2  3  3  2  2  2  3   3     14              2\n",
       "211  2  1  3  2  2  2  2  2  3   2      5              3\n",
       "212  1  3  2  2  2  2  2  2  2   3      8              3\n",
       "213  1  2  2  1  2  2  2  2  2   1      3              3\n",
       "214  2  2  3  2  2  2  2  2  2   3      4              3\n",
       "\n",
       "[215 rows x 12 columns]>"
      ]
     },
     "execution_count": 158,
     "metadata": {},
     "output_type": "execute_result"
    }
   ],
   "source": [
    "#uniformisation des données pour le traitement par la version 1 du knn from scratch\n",
    "#####NE PAS UTILISER POUR AUTRE CHOSE QUE LA V1####\n",
    "#le chargement des données a été ajouté près de chaque versionde l'algorithme (V2, from scratch fournis en cours, SKlearn, Sklearn fournis en cours)\n",
    "l = df.columns\n",
    "for i in l :\n",
    "    for j in range (215) :\n",
    "        if df[i][j] == 'a' or df[i][j] == '1' or df[i][j] == 'A' :\n",
    "            df[i][j]=1\n",
    "        if df[i][j] == 'b' or df[i][j] == '2' or df[i][j] == 'B' :\n",
    "            df[i][j]=2\n",
    "        if df[i][j] == 'c' or df[i][j] == '3' or df[i][j] == 'C' :\n",
    "            df[i][j]=3\n",
    "            \n",
    "df.describe"
   ]
  },
  {
   "cell_type": "markdown",
   "id": "949e05ce",
   "metadata": {},
   "source": [
    "## Création des données jouet"
   ]
  },
  {
   "cell_type": "code",
   "execution_count": 73,
   "id": "1963ba77",
   "metadata": {
    "scrolled": true
   },
   "outputs": [
    {
     "name": "stdout",
     "output_type": "stream",
     "text": [
      "    Q1 Q2 Q3 Q4 Q5 Q6 Q7 Q8 Q9 Q10  Score Interpretation\n",
      "54   2  1  1  1  1  2  3  3  3   3     12              2\n",
      "38   2  1  1  2  2  3  2  1  2   1      6              3\n",
      "93   1  1  2  3  2  2  2  3  3   3     12              2\n",
      "198  2  1  1  2  2  3  1  3  2   1      8              3\n",
      "200  1  3  3  3  1  1  2  2  1   2     10              2\n",
      "..  .. .. .. .. .. .. .. .. ..  ..    ...            ...\n",
      "79   1  2  2  3  1  1  2  2  1   2      6              3\n",
      "21   3  2  1  3  2  2  2  2  2   2      8              3\n",
      "98   2  2  3  3  2  2  2  3  3   3     14              2\n",
      "94   2  3  3  3  2  2  2  2  1   1     12              2\n",
      "32   2  2  2  2  1  3  2  1  3   2      6              3\n",
      "\n",
      "[172 rows x 12 columns]\n"
     ]
    }
   ],
   "source": [
    "X = df\n",
    "y = df['Interpretation']\n",
    "X_train, X_test, Y_train, Y_test = train_test_split(X, y, test_size = 0.2) \n",
    "\n",
    "print(X_train)\n",
    "index = X_test.index"
   ]
  },
  {
   "cell_type": "markdown",
   "id": "560ecd0e",
   "metadata": {},
   "source": [
    "## Execution de l'algorithme KNN from scratch"
   ]
  },
  {
   "cell_type": "markdown",
   "id": "e339ee73",
   "metadata": {},
   "source": [
    "Dans une première version de l'algorithme j'ai utilisé l'entièreté du dataframe comme features, ce qui ne change pas énormément ke fonctionnement ici mais ne rends pas le programme appliquable sur de nouvelles données sans interprétations. J'ai également fait une version 2 qui cette fois n'utilise que les réponse au questions comme feature mais avec un taux de réussite moins bon."
   ]
  },
  {
   "cell_type": "markdown",
   "id": "ca0bc1d7",
   "metadata": {},
   "source": [
    "### Fonctions permettant d'afficher les taux de réussite en fonction du nombre de voisins"
   ]
  },
  {
   "cell_type": "code",
   "execution_count": 80,
   "id": "2342bdd0",
   "metadata": {},
   "outputs": [],
   "source": [
    "#fonction remplissant un tableau avec le nombre de prédictions correctes en fonction du nombre de voisins\n",
    "def essais_mult(metrics, nb_v) :\n",
    "    X = df\n",
    "    y = df['Interpretation']\n",
    "    X_train, X_test, Y_train, Y_test = train_test_split(X, y, test_size = 0.2)\n",
    "    index = X_test.index\n",
    "    c = 0\n",
    "    for i in range(len(X_test)):\n",
    "        d=algo_knn.KNN(X_train, X_test.iloc[i], nb_v, metrics)\n",
    "        if Y_test.values[i] == d :\n",
    "            c+=1\n",
    "    return c"
   ]
  },
  {
   "cell_type": "code",
   "execution_count": 75,
   "id": "8c3d7a8a",
   "metadata": {},
   "outputs": [],
   "source": [
    "#fonction créant l'animation de chargement\n",
    "done = False\n",
    "#here is the animation\n",
    "def animate():\n",
    "    for c in itertools.cycle(['|', '/', '-', '\\\\']):\n",
    "        if done:\n",
    "            break\n",
    "        sys.stdout.write('\\rloading ' + c)\n",
    "        sys.stdout.flush()\n",
    "        time.sleep(0.1)\n",
    "    sys.stdout.write('\\rDone!     ')\n",
    "\n"
   ]
  },
  {
   "cell_type": "code",
   "execution_count": 81,
   "id": "2fea04b0",
   "metadata": {},
   "outputs": [
    {
     "name": "stdout",
     "output_type": "stream",
     "text": [
      "loading |"
     ]
    },
    {
     "data": {
      "image/png": "[encoded data removed]",
      "text/plain": [
       "<Figure size 432x288 with 1 Axes>"
      ]
     },
     "metadata": {
      "needs_background": "light"
     },
     "output_type": "display_data"
    },
    {
     "name": "stdout",
     "output_type": "stream",
     "text": [
      "\r",
      "Done!     "
     ]
    }
   ],
   "source": [
    "done = False\n",
    "t = threading.Thread(target=animate)\n",
    "t.start()\n",
    "list_pourc = []\n",
    "#changer les paramètre pour tester avec la distance minkowski, les calculs prennent environ 35min avec ceux-ci\n",
    "for j in range (1,15) :\n",
    "\tlist_try = []\n",
    "\titer = 100\n",
    "\tfor i in range(iter) :\n",
    "\t\tlist_try.append(essais_mult('euclidienne', j))\n",
    "\tk = (sum(list_try)/(len(X_test)*iter))*100\n",
    "\tlist_pourc.append(k)\n",
    "#plt.plot(list_try)\n",
    "plt.plot(list_pourc)\n",
    "plt.show()\n",
    "done = True"
   ]
  },
  {
   "cell_type": "markdown",
   "id": "2fae8ac4",
   "metadata": {},
   "source": [
    "### Version 2 de mon algoritthme"
   ]
  },
  {
   "cell_type": "markdown",
   "id": "10d721f4",
   "metadata": {},
   "source": [
    "Cette version de mon algorithme KNN diffère de la première qui utilise incorrectement l'entièretée du dataframe comme features en utilisant ici que les réponses aux questions 1 à 12. Les résultats produits sont cependant moins bon que dans la version 1 (~80% de prédictions correctes contre ~95% pour la v1) "
   ]
  },
  {
   "cell_type": "code",
   "execution_count": 184,
   "id": "d6b88d8a",
   "metadata": {},
   "outputs": [
    {
     "name": "stderr",
     "output_type": "stream",
     "text": [
      "C:\\Users\\UTILIS~1\\AppData\\Local\\Temp/ipykernel_2656/3059187319.py:8: SettingWithCopyWarning: \n",
      "A value is trying to be set on a copy of a slice from a DataFrame\n",
      "\n",
      "See the caveats in the documentation: https://pandas.pydata.org/pandas-docs/stable/user_guide/indexing.html#returning-a-view-versus-a-copy\n",
      "  df[i][j] = None\n"
     ]
    },
    {
     "name": "stdout",
     "output_type": "stream",
     "text": [
      "C    139\n",
      "B     71\n",
      "A      5\n",
      "Name: Interpretation, dtype: int64\n"
     ]
    },
    {
     "name": "stderr",
     "output_type": "stream",
     "text": [
      "C:\\Users\\UTILIS~1\\AppData\\Local\\Temp/ipykernel_2656/3059187319.py:20: SettingWithCopyWarning: \n",
      "A value is trying to be set on a copy of a slice from a DataFrame\n",
      "\n",
      "See the caveats in the documentation: https://pandas.pydata.org/pandas-docs/stable/user_guide/indexing.html#returning-a-view-versus-a-copy\n",
      "  df[i][j]=1\n",
      "C:\\Users\\UTILIS~1\\AppData\\Local\\Temp/ipykernel_2656/3059187319.py:22: SettingWithCopyWarning: \n",
      "A value is trying to be set on a copy of a slice from a DataFrame\n",
      "\n",
      "See the caveats in the documentation: https://pandas.pydata.org/pandas-docs/stable/user_guide/indexing.html#returning-a-view-versus-a-copy\n",
      "  df[i][j]=2\n",
      "C:\\Users\\UTILIS~1\\AppData\\Local\\Temp/ipykernel_2656/3059187319.py:24: SettingWithCopyWarning: \n",
      "A value is trying to be set on a copy of a slice from a DataFrame\n",
      "\n",
      "See the caveats in the documentation: https://pandas.pydata.org/pandas-docs/stable/user_guide/indexing.html#returning-a-view-versus-a-copy\n",
      "  df[i][j]=3\n"
     ]
    },
    {
     "name": "stdout",
     "output_type": "stream",
     "text": [
      "\r",
      "loading |"
     ]
    },
    {
     "ename": "AttributeError",
     "evalue": "module 'algo_knn' has no attribute 'KNN_V2'",
     "output_type": "error",
     "traceback": [
      "\u001b[1;31m---------------------------------------------------------------------------\u001b[0m",
      "\u001b[1;31mAttributeError\u001b[0m                            Traceback (most recent call last)",
      "\u001b[1;32mC:\\Users\\UTILIS~1\\AppData\\Local\\Temp/ipykernel_2656/3059187319.py\u001b[0m in \u001b[0;36m<module>\u001b[1;34m\u001b[0m\n\u001b[0;32m     61\u001b[0m         \u001b[0miter\u001b[0m \u001b[1;33m=\u001b[0m \u001b[1;36m100\u001b[0m\u001b[1;33m\u001b[0m\u001b[1;33m\u001b[0m\u001b[0m\n\u001b[0;32m     62\u001b[0m         \u001b[1;32mfor\u001b[0m \u001b[0mi\u001b[0m \u001b[1;32min\u001b[0m \u001b[0mrange\u001b[0m\u001b[1;33m(\u001b[0m\u001b[0miter\u001b[0m\u001b[1;33m)\u001b[0m \u001b[1;33m:\u001b[0m\u001b[1;33m\u001b[0m\u001b[1;33m\u001b[0m\u001b[0m\n\u001b[1;32m---> 63\u001b[1;33m                 \u001b[0mlist_try\u001b[0m\u001b[1;33m.\u001b[0m\u001b[0mappend\u001b[0m\u001b[1;33m(\u001b[0m\u001b[0messais_mult\u001b[0m\u001b[1;33m(\u001b[0m\u001b[1;34m'manhathan'\u001b[0m\u001b[1;33m,\u001b[0m \u001b[0mj\u001b[0m\u001b[1;33m)\u001b[0m\u001b[1;33m)\u001b[0m\u001b[1;33m\u001b[0m\u001b[1;33m\u001b[0m\u001b[0m\n\u001b[0m\u001b[0;32m     64\u001b[0m         \u001b[0mk\u001b[0m \u001b[1;33m=\u001b[0m \u001b[1;33m(\u001b[0m\u001b[0msum\u001b[0m\u001b[1;33m(\u001b[0m\u001b[0mlist_try\u001b[0m\u001b[1;33m)\u001b[0m\u001b[1;33m/\u001b[0m\u001b[1;33m(\u001b[0m\u001b[0mlen\u001b[0m\u001b[1;33m(\u001b[0m\u001b[0mX_test\u001b[0m\u001b[1;33m)\u001b[0m\u001b[1;33m*\u001b[0m\u001b[0miter\u001b[0m\u001b[1;33m)\u001b[0m\u001b[1;33m)\u001b[0m\u001b[1;33m*\u001b[0m\u001b[1;36m100\u001b[0m\u001b[1;33m\u001b[0m\u001b[1;33m\u001b[0m\u001b[0m\n\u001b[0;32m     65\u001b[0m         \u001b[0mlist_pourc\u001b[0m\u001b[1;33m.\u001b[0m\u001b[0mappend\u001b[0m\u001b[1;33m(\u001b[0m\u001b[0mk\u001b[0m\u001b[1;33m)\u001b[0m\u001b[1;33m\u001b[0m\u001b[1;33m\u001b[0m\u001b[0m\n",
      "\u001b[1;32mC:\\Users\\UTILIS~1\\AppData\\Local\\Temp/ipykernel_2656/3059187319.py\u001b[0m in \u001b[0;36messais_mult\u001b[1;34m(metrics, nb_v)\u001b[0m\n\u001b[0;32m     36\u001b[0m     \u001b[0mc\u001b[0m \u001b[1;33m=\u001b[0m \u001b[1;36m0\u001b[0m\u001b[1;33m\u001b[0m\u001b[1;33m\u001b[0m\u001b[0m\n\u001b[0;32m     37\u001b[0m     \u001b[1;32mfor\u001b[0m \u001b[0mi\u001b[0m \u001b[1;32min\u001b[0m \u001b[0mrange\u001b[0m\u001b[1;33m(\u001b[0m\u001b[0mlen\u001b[0m\u001b[1;33m(\u001b[0m\u001b[0mX_test\u001b[0m\u001b[1;33m)\u001b[0m\u001b[1;33m)\u001b[0m\u001b[1;33m:\u001b[0m\u001b[1;33m\u001b[0m\u001b[1;33m\u001b[0m\u001b[0m\n\u001b[1;32m---> 38\u001b[1;33m         \u001b[0md\u001b[0m\u001b[1;33m=\u001b[0m\u001b[0malgo_knn\u001b[0m\u001b[1;33m.\u001b[0m\u001b[0mKNN_V2\u001b[0m\u001b[1;33m(\u001b[0m\u001b[0mX_train\u001b[0m\u001b[1;33m,\u001b[0m \u001b[0mY_train\u001b[0m\u001b[1;33m,\u001b[0m \u001b[0mX_test\u001b[0m\u001b[1;33m.\u001b[0m\u001b[0miloc\u001b[0m\u001b[1;33m[\u001b[0m\u001b[0mi\u001b[0m\u001b[1;33m]\u001b[0m\u001b[1;33m,\u001b[0m \u001b[0mnb_v\u001b[0m\u001b[1;33m,\u001b[0m \u001b[0mmetrics\u001b[0m\u001b[1;33m)\u001b[0m\u001b[1;33m\u001b[0m\u001b[1;33m\u001b[0m\u001b[0m\n\u001b[0m\u001b[0;32m     39\u001b[0m         \u001b[1;32mif\u001b[0m \u001b[0mY_test\u001b[0m\u001b[1;33m.\u001b[0m\u001b[0mvalues\u001b[0m\u001b[1;33m[\u001b[0m\u001b[0mi\u001b[0m\u001b[1;33m]\u001b[0m \u001b[1;33m==\u001b[0m \u001b[0md\u001b[0m \u001b[1;33m:\u001b[0m\u001b[1;33m\u001b[0m\u001b[1;33m\u001b[0m\u001b[0m\n\u001b[0;32m     40\u001b[0m             \u001b[0mc\u001b[0m\u001b[1;33m+=\u001b[0m\u001b[1;36m1\u001b[0m\u001b[1;33m\u001b[0m\u001b[1;33m\u001b[0m\u001b[0m\n",
      "\u001b[1;31mAttributeError\u001b[0m: module 'algo_knn' has no attribute 'KNN_V2'"
     ]
    },
    {
     "name": "stdout",
     "output_type": "stream",
     "text": [
      "loading \\"
     ]
    }
   ],
   "source": [
    "#chargement des données de manière à correspondre aux attentes de la V2\n",
    "df = pd.read_csv('DataSet__DataSet_complet__.csv')\n",
    "list_col = df.columns\n",
    "l = df.columns\n",
    "l = ['Q1', 'Q2', 'Q3', 'Q4', 'Q5', 'Q6', 'Q7', 'Q8', 'Q9', 'Q10']\n",
    "for i in l :\n",
    "    for j in range(215):\n",
    "        if not df[i][j] in ['a', 'b', 'c', '1', '2', '3'] :\n",
    "            df[i][j] = None\n",
    "df=df.fillna('b')\n",
    "print(df['Interpretation'].value_counts(dropna=False))\n",
    "n = len(df['Q1'])\n",
    "l = range(n)\n",
    "df=df.reindex(l)\n",
    "\n",
    "\n",
    "l = df.columns\n",
    "for i in l :\n",
    "    for j in range (len(df['Q1'])) :\n",
    "        if df[i][j] == 'a' or df[i][j] == '1' :\n",
    "            df[i][j]=1\n",
    "        if df[i][j] == 'b' or df[i][j] == '2' :\n",
    "            df[i][j]=2\n",
    "        if df[i][j] == 'c' or df[i][j] == '3' :\n",
    "            df[i][j]=3\n",
    "\n",
    "X = df.drop(['Score', 'Interpretation'], axis=1)\n",
    "y = df['Interpretation']\n",
    "X_train, X_test, Y_train, Y_test = train_test_split(X, y, test_size = 0.2) \n",
    "\n",
    "#éxecution du programme V2 de manière similaire à la V1\n",
    "def essais_mult(metrics, nb_v) :\n",
    "    X = df.drop(['Score', 'Interpretation'], axis=1)\n",
    "    y = df['Interpretation']\n",
    "    X_train, X_test, Y_train, Y_test = train_test_split(X, y, test_size = 0.2) \n",
    "    index = X_test.index\n",
    "    c = 0\n",
    "    for i in range(len(X_test)):\n",
    "        d=algo_knn.KNN_V2(X_train, Y_train, X_test.iloc[i], nb_v, metrics)\n",
    "        if Y_test.values[i] == d :\n",
    "            c+=1\n",
    "    return c\n",
    "\n",
    "done = False\n",
    "#here is the animation\n",
    "def animate():\n",
    "    for c in itertools.cycle(['|', '/', '-', '\\\\']):\n",
    "        if done:\n",
    "            break\n",
    "        sys.stdout.write('\\rloading ' + c)\n",
    "        sys.stdout.flush()\n",
    "        time.sleep(0.1)\n",
    "    sys.stdout.write('\\rDone!     ')\n",
    "\n",
    "t = threading.Thread(target=animate)\n",
    "t.start()\n",
    "\n",
    "list_pourc = []\n",
    "\n",
    "for j in range (1,15) :\n",
    "\tlist_try = []\n",
    "\titer = 100\n",
    "\tfor i in range(iter) :\n",
    "\t\tlist_try.append(essais_mult('manhathan', j))\n",
    "\tk = (sum(list_try)/(len(X_test)*iter))*100\n",
    "\tlist_pourc.append(k)\n",
    "\n",
    "plt.plot(list_pourc)\n",
    "plt.show()\n",
    "done = True\n",
    "\n"
   ]
  },
  {
   "cell_type": "markdown",
   "id": "714dd47a",
   "metadata": {},
   "source": [
    "## Avec le knn from scratch fourni en cours"
   ]
  },
  {
   "cell_type": "code",
   "execution_count": 163,
   "id": "4f2d66c0",
   "metadata": {},
   "outputs": [
    {
     "name": "stderr",
     "output_type": "stream",
     "text": [
      "C:\\Users\\UTILIS~1\\AppData\\Local\\Temp/ipykernel_2656/1611078130.py:12: SettingWithCopyWarning: \n",
      "A value is trying to be set on a copy of a slice from a DataFrame\n",
      "\n",
      "See the caveats in the documentation: https://pandas.pydata.org/pandas-docs/stable/user_guide/indexing.html#returning-a-view-versus-a-copy\n",
      "  df[i][j] = None\n",
      "C:\\Users\\UTILIS~1\\AppData\\Local\\Temp/ipykernel_2656/1611078130.py:24: SettingWithCopyWarning: \n",
      "A value is trying to be set on a copy of a slice from a DataFrame\n",
      "\n",
      "See the caveats in the documentation: https://pandas.pydata.org/pandas-docs/stable/user_guide/indexing.html#returning-a-view-versus-a-copy\n",
      "  df[i][j]=1\n",
      "C:\\Users\\UTILIS~1\\AppData\\Local\\Temp/ipykernel_2656/1611078130.py:26: SettingWithCopyWarning: \n",
      "A value is trying to be set on a copy of a slice from a DataFrame\n",
      "\n",
      "See the caveats in the documentation: https://pandas.pydata.org/pandas-docs/stable/user_guide/indexing.html#returning-a-view-versus-a-copy\n",
      "  df[i][j]=2\n",
      "C:\\Users\\UTILIS~1\\AppData\\Local\\Temp/ipykernel_2656/1611078130.py:28: SettingWithCopyWarning: \n",
      "A value is trying to be set on a copy of a slice from a DataFrame\n",
      "\n",
      "See the caveats in the documentation: https://pandas.pydata.org/pandas-docs/stable/user_guide/indexing.html#returning-a-view-versus-a-copy\n",
      "  df[i][j]=3\n"
     ]
    }
   ],
   "source": [
    "#chargement des données d'une manière correspondant aux attentes du programme\n",
    "import knn_prof\n",
    "df = pd.read_csv('DataSet__DataSet_complet__.csv')\n",
    "list_col = df.columns\n",
    "l = df.columns\n",
    "l = ['Q1', 'Q2', 'Q3', 'Q4', 'Q5', 'Q6', 'Q7', 'Q8', 'Q9', 'Q10']\n",
    "for i in l :\n",
    "\n",
    "    for j in range(215):\n",
    "        if not df[i][j] in ['a', 'b', 'c', '1', '2', '3'] :\n",
    "            df[i][j] = None\n",
    "df=df.fillna('b')\n",
    "n = len(df['Q1'])\n",
    "l = range(n)\n",
    "\n",
    "df=df.reindex(l)\n",
    "\n",
    "\n",
    "l = df.columns\n",
    "for i in l :\n",
    "    for j in range (215) :\n",
    "        if df[i][j] == 'a' or df[i][j] == '1'  :\n",
    "            df[i][j]=1\n",
    "        if df[i][j] == 'b' or df[i][j] == '2'  :\n",
    "            df[i][j]=2\n",
    "        if df[i][j] == 'c' or df[i][j] == '3'  :\n",
    "            df[i][j]=3\n",
    "\n",
    "\n",
    "\n"
   ]
  },
  {
   "cell_type": "code",
   "execution_count": 98,
   "id": "b2622184",
   "metadata": {},
   "outputs": [],
   "source": [
    "#préparation des données d'entrainement et de test\n",
    "X = df.drop(['Score', 'Interpretation'], axis=1)\n",
    "y = df['Interpretation']\n",
    "X_train, X_test, Y_train, Y_test = train_test_split(X, y, test_size = 0.2)"
   ]
  },
  {
   "cell_type": "code",
   "execution_count": 191,
   "id": "332b2fc6",
   "metadata": {},
   "outputs": [
    {
     "name": "stdout",
     "output_type": "stream",
     "text": [
      "1\n",
      "loading /43 / 43\n",
      "2\n",
      "loading \\43 / 43\n",
      "3\n",
      "loading -43 / 43\n",
      "4\n",
      "loading /43 / 43\n",
      "5\n",
      "loading |43 / 43\n",
      "6\n",
      "loading /43 / 43\n",
      "7\n",
      "loading -43 / 43\n",
      "8\n",
      "loading /43 / 43\n",
      "9\n",
      "loading -43 / 43\n",
      "10\n",
      "loading /43 / 43\n",
      "11\n",
      "loading |43 / 43\n",
      "12\n",
      "loading \\ / 43\n",
      "13\n",
      "loading /43 / 43\n",
      "14\n",
      "loading -43 / 43\n",
      "Done!     "
     ]
    }
   ],
   "source": [
    "#vérification rapide du fonctionnement\n",
    "k = 3\n",
    "\n",
    "for j in range (1,15):\n",
    "    print(j)\n",
    "    c = 0\n",
    "    p = knn_prof.knn(X_test, X_train, Y_train, j, 'minkowski')\n",
    "    for i in range(len(Y_test)) :\n",
    "        Y_test.values[i]==p[i]\n",
    "        c+=1\n",
    "    print(c, '/', i+1)\n",
    "done = True"
   ]
  },
  {
   "cell_type": "code",
   "execution_count": 189,
   "id": "1b29e790",
   "metadata": {},
   "outputs": [
    {
     "name": "stdout",
     "output_type": "stream",
     "text": [
      "loading \\"
     ]
    },
    {
     "data": {
      "image/png": "[encoded data removed]",
      "text/plain": [
       "<Figure size 432x288 with 1 Axes>"
      ]
     },
     "metadata": {
      "needs_background": "light"
     },
     "output_type": "display_data"
    },
    {
     "name": "stdout",
     "output_type": "stream",
     "text": [
      "loading |"
     ]
    }
   ],
   "source": [
    "def essais_mult_prof(metrics, nb_v) :\n",
    "    X = df.drop(['Score', 'Interpretation'], axis=1)\n",
    "    y = df['Interpretation']\n",
    "    X_train, X_test, Y_train, Y_test = train_test_split(X, y, test_size = 0.2) \n",
    "    index = X_test.index\n",
    "    d=knn_prof.knn(X_test, X_train, Y_train, nb_v, metrics)\n",
    "    c = 0\n",
    "    for i in range(len(Y_test)):\n",
    "        if Y_test.values[i] == d[i] :\n",
    "            c+=1\n",
    "    return c\n",
    "\n",
    "list_pourc = []\n",
    "for j in range (1,5) :\n",
    "\tlist_try = []\n",
    "\titer = 10\n",
    "\tfor i in range(iter) :\n",
    "\t\tlist_try.append(essais_mult_prof('euclidean', j))\n",
    "\tk = (sum(list_try)/(len(X_test)*iter))*100\n",
    "\tlist_pourc.append(k)\n",
    "\n",
    "plt.plot(list_pourc)\n",
    "plt.show()"
   ]
  },
  {
   "cell_type": "markdown",
   "id": "386e7c1c",
   "metadata": {},
   "source": [
    "## KNN avec SKlearn"
   ]
  },
  {
   "cell_type": "markdown",
   "id": "ec69bd6e",
   "metadata": {},
   "source": [
    "#### Pour charger le DF"
   ]
  },
  {
   "cell_type": "code",
   "execution_count": 177,
   "id": "b4bfff9b",
   "metadata": {},
   "outputs": [
    {
     "name": "stderr",
     "output_type": "stream",
     "text": [
      "C:\\Users\\UTILIS~1\\AppData\\Local\\Temp/ipykernel_2656/3332382083.py:11: SettingWithCopyWarning: \n",
      "A value is trying to be set on a copy of a slice from a DataFrame\n",
      "\n",
      "See the caveats in the documentation: https://pandas.pydata.org/pandas-docs/stable/user_guide/indexing.html#returning-a-view-versus-a-copy\n",
      "  df[i][j] = None\n",
      "C:\\Users\\UTILIS~1\\AppData\\Local\\Temp/ipykernel_2656/3332382083.py:23: SettingWithCopyWarning: \n",
      "A value is trying to be set on a copy of a slice from a DataFrame\n",
      "\n",
      "See the caveats in the documentation: https://pandas.pydata.org/pandas-docs/stable/user_guide/indexing.html#returning-a-view-versus-a-copy\n",
      "  df[i][j]=1\n",
      "C:\\Users\\UTILIS~1\\AppData\\Local\\Temp/ipykernel_2656/3332382083.py:25: SettingWithCopyWarning: \n",
      "A value is trying to be set on a copy of a slice from a DataFrame\n",
      "\n",
      "See the caveats in the documentation: https://pandas.pydata.org/pandas-docs/stable/user_guide/indexing.html#returning-a-view-versus-a-copy\n",
      "  df[i][j]=2\n",
      "C:\\Users\\UTILIS~1\\AppData\\Local\\Temp/ipykernel_2656/3332382083.py:27: SettingWithCopyWarning: \n",
      "A value is trying to be set on a copy of a slice from a DataFrame\n",
      "\n",
      "See the caveats in the documentation: https://pandas.pydata.org/pandas-docs/stable/user_guide/indexing.html#returning-a-view-versus-a-copy\n",
      "  df[i][j]=3\n"
     ]
    }
   ],
   "source": [
    "#charge le dataframe de manière correspondante aux attente de sklearn, en utilisant le chargement fait pour mon algorithme sklearn version 1 les données ne correspondent pas (les interprétation sont changées en valeurs chiffrées)\n",
    "df = pd.read_csv('DataSet__DataSet_complet__.csv')\n",
    "list_col = df.columns\n",
    "l = df.columns\n",
    "l = ['Q1', 'Q2', 'Q3', 'Q4', 'Q5', 'Q6', 'Q7', 'Q8', 'Q9', 'Q10']\n",
    "for i in l :\n",
    "\n",
    "    for j in range(215):\n",
    "        if not df[i][j] in ['a', 'b', 'c', '1', '2', '3'] :\n",
    "            df[i][j] = None\n",
    "df=df.fillna('b')\n",
    "n = len(df['Q1'])\n",
    "l = range(n)\n",
    "\n",
    "df=df.reindex(l)\n",
    "\n",
    "\n",
    "l = df.columns\n",
    "for i in l :\n",
    "    for j in range (215) :\n",
    "        if df[i][j] == 'a' or df[i][j] == '1'  :\n",
    "            df[i][j]=1\n",
    "        if df[i][j] == 'b' or df[i][j] == '2'  :\n",
    "            df[i][j]=2\n",
    "        if df[i][j] == 'c' or df[i][j] == '3'  :\n",
    "            df[i][j]=3\n"
   ]
  },
  {
   "cell_type": "markdown",
   "id": "ddc40763",
   "metadata": {},
   "source": [
    "#### Execution avec SKlearn"
   ]
  },
  {
   "cell_type": "code",
   "execution_count": 178,
   "id": "8d9be2cc",
   "metadata": {},
   "outputs": [
    {
     "name": "stdout",
     "output_type": "stream",
     "text": [
      "KFold(n_splits=2, random_state=None, shuffle=False)\n"
     ]
    }
   ],
   "source": [
    "from sklearn.model_selection import KFold\n",
    "#crossvalidation et K-fold avec sklearn\n",
    "X = df.drop(['Score', 'Interpretation'], axis=1)\n",
    "y = df['Interpretation']\n",
    "kf = KFold(n_splits=2)\n",
    "kf.get_n_splits(X)\n",
    "\n",
    "print(kf)\n",
    "KFold(n_splits=2, random_state=None, shuffle=False)\n",
    "for train_index, test_index in kf.split(X):\n",
    "    X_train, X_test = X.iloc[train_index,:],X.iloc[test_index,:]\n",
    "    y_train, y_test = y[train_index], y[test_index]"
   ]
  },
  {
   "cell_type": "code",
   "execution_count": 179,
   "id": "dacd9ffb",
   "metadata": {},
   "outputs": [
    {
     "data": {
      "text/plain": [
       "KNeighborsClassifier(n_neighbors=3)"
      ]
     },
     "execution_count": 179,
     "metadata": {},
     "output_type": "execute_result"
    }
   ],
   "source": [
    "from sklearn.neighbors import KNeighborsClassifier\n",
    "from sklearn.metrics import accuracy_score\n",
    "#création et ajustement du modèle\n",
    "neigh = KNeighborsClassifier(n_neighbors=3)\n",
    "neigh.fit(X_train, y_train)"
   ]
  },
  {
   "cell_type": "code",
   "execution_count": 180,
   "id": "38725f1a",
   "metadata": {},
   "outputs": [
    {
     "name": "stdout",
     "output_type": "stream",
     "text": [
      "B\n",
      "B\n",
      "--\n",
      "C\n",
      "C\n",
      "--\n",
      "C\n",
      "C\n",
      "--\n",
      "C\n",
      "C\n",
      "--\n",
      "C\n",
      "C\n",
      "--\n",
      "C\n",
      "C\n",
      "--\n",
      "B\n",
      "B\n",
      "--\n",
      "C\n",
      "B\n",
      "--\n",
      "C\n",
      "B\n",
      "--\n",
      "C\n",
      "C\n",
      "--\n",
      "C\n",
      "C\n",
      "--\n",
      "C\n",
      "C\n",
      "--\n",
      "C\n",
      "C\n",
      "--\n",
      "C\n",
      "C\n",
      "--\n",
      "C\n",
      "C\n",
      "--\n",
      "C\n",
      "C\n",
      "--\n",
      "C\n",
      "C\n",
      "--\n",
      "C\n",
      "C\n",
      "--\n",
      "B\n",
      "A\n",
      "--\n",
      "C\n",
      "C\n",
      "--\n",
      "C\n",
      "C\n",
      "--\n",
      "C\n",
      "C\n",
      "--\n",
      "C\n",
      "C\n",
      "--\n",
      "C\n",
      "C\n",
      "--\n",
      "C\n",
      "C\n",
      "--\n",
      "B\n",
      "B\n",
      "--\n",
      "B\n",
      "B\n",
      "--\n",
      "C\n",
      "C\n",
      "--\n",
      "C\n",
      "C\n",
      "--\n",
      "C\n",
      "C\n",
      "--\n",
      "C\n",
      "C\n",
      "--\n",
      "C\n",
      "C\n",
      "--\n",
      "C\n",
      "C\n",
      "--\n",
      "C\n",
      "C\n",
      "--\n",
      "C\n",
      "C\n",
      "--\n",
      "B\n",
      "C\n",
      "--\n",
      "B\n",
      "B\n",
      "--\n",
      "C\n",
      "B\n",
      "--\n",
      "C\n",
      "C\n",
      "--\n",
      "C\n",
      "C\n",
      "--\n",
      "C\n",
      "C\n",
      "--\n",
      "C\n",
      "C\n",
      "--\n",
      "C\n",
      "C\n",
      "--\n",
      "===\n",
      "5 / 42\n"
     ]
    }
   ],
   "source": [
    "### Test pour vérification rapide du fonctionnement en comptant le nombre d'erreurs\n",
    "p=(neigh.predict(X_test))\n",
    "c=0\n",
    "for i in range(len(Y_test)):\n",
    "    print(p[i])\n",
    "    print(y_test.values[i])\n",
    "    if(p[i]!=y_test.values[i]):\n",
    "        c+=1\n",
    "    print('--')\n",
    "print('===')\n",
    "print(c, \"/\", i)"
   ]
  },
  {
   "cell_type": "code",
   "execution_count": 212,
   "id": "4ec3539b",
   "metadata": {},
   "outputs": [],
   "source": [
    "from sklearn.metrics import accuracy_score\n",
    "#fonction calculant le taux de réussite des prédictions en fonction du nombre de voisins sélectionnés\n",
    "def calcul_taux_voisin(nb_v) :\n",
    "    list_taux = []\n",
    "    for j in range (1,nb_v) :\n",
    "        kf = KFold(n_splits=2)\n",
    "        kf.get_n_splits(X)\n",
    "        KFold(n_splits=2, random_state=None, shuffle=False)\n",
    "        for train_index, test_index in kf.split(X):\n",
    "            X_train, X_test = X.iloc[train_index,:],X.iloc[test_index,:]\n",
    "            y_train, y_test = y[train_index], y[test_index]\n",
    "\n",
    "        neigh = KNeighborsClassifier(n_neighbors=j)\n",
    "        neigh.fit(X_train, y_train)\n",
    "        c = 0\n",
    "        p = neigh.predict(X_test)\n",
    "        a = accuracy_score(y_test, p)\n",
    "        print(\"Performance:\", a)\n",
    "        model.fit(X_train,y_train)\n",
    "        print(X_train.shape,y_train.shape)\n",
    "        for i in range(len(y_test)):\n",
    "            if y_test.values[i] == p[i]:\n",
    "                c+=1\n",
    "        t = (c/len(p))*100\n",
    "        list_taux.append(t)\n",
    "    return list_taux"
   ]
  },
  {
   "cell_type": "code",
   "execution_count": 213,
   "id": "ba05456c",
   "metadata": {},
   "outputs": [
    {
     "name": "stdout",
     "output_type": "stream",
     "text": [
      "Performance: 0.8130841121495327\n",
      "(108, 10) (108,)\n",
      "Performance: 0.7850467289719626\n",
      "(108, 10) (108,)\n",
      "Performance: 0.719626168224299\n",
      "(108, 10) (108,)\n",
      "Performance: 0.7102803738317757\n",
      "(108, 10) (108,)\n",
      "Performance: 0.6915887850467289\n",
      "(108, 10) (108,)\n",
      "Performance: 0.7009345794392523\n",
      "(108, 10) (108,)\n",
      "Performance: 0.6542056074766355\n",
      "(108, 10) (108,)\n",
      "Performance: 0.6448598130841121\n",
      "(108, 10) (108,)\n",
      "Performance: 0.6635514018691588\n",
      "(108, 10) (108,)\n",
      "Performance: 0.6635514018691588\n",
      "(108, 10) (108,)\n",
      "Performance: 0.7009345794392523\n",
      "(108, 10) (108,)\n",
      "Performance: 0.6915887850467289\n",
      "(108, 10) (108,)\n",
      "Performance: 0.6915887850467289\n",
      "(108, 10) (108,)\n",
      "Performance: 0.6915887850467289\n",
      "(108, 10) (108,)\n"
     ]
    },
    {
     "data": {
      "image/png": "[encoded data removed]",
      "text/plain": [
       "<Figure size 432x288 with 1 Axes>"
      ]
     },
     "metadata": {
      "needs_background": "light"
     },
     "output_type": "display_data"
    }
   ],
   "source": [
    "t=calcul_taux_voisin(15)\n",
    "plt.plot(t)\n",
    "plt.show()"
   ]
  },
  {
   "cell_type": "markdown",
   "id": "83b5a113",
   "metadata": {},
   "source": [
    "### SKlearn fournis en cours"
   ]
  },
  {
   "cell_type": "code",
   "execution_count": 208,
   "id": "e4bf5679",
   "metadata": {},
   "outputs": [
    {
     "name": "stdout",
     "output_type": "stream",
     "text": [
      "(143, 10) (143,)\n",
      "Performance: 0.7777777777777778\n",
      "(143, 10) (143,)\n",
      "Performance: 0.7777777777777778\n",
      "(144, 10) (144,)\n",
      "Performance: 0.7183098591549296\n"
     ]
    }
   ],
   "source": [
    "from sklearn.model_selection import KFold\n",
    "from sklearn.neighbors import KNeighborsClassifier as KNN\n",
    "from sklearn.metrics import accuracy_score\n",
    "\n",
    "kf = KFold(n_splits=3)\n",
    "kf.get_n_splits(X)\n",
    "\n",
    "for train_index, test_index in kf.split(X):\n",
    "    X_Train = X.iloc[train_index,:]\n",
    "    Y_Train = y[train_index]\n",
    "    \n",
    "    X_Test = X.iloc[test_index,:]\n",
    "    Y_Test = y[test_index]\n",
    "    \n",
    "    model = KNN(n_neighbors = 3)\n",
    "    model.fit(X_Train,Y_Train)\n",
    "    print(X_Train.shape, Y_Train.shape)\n",
    "    y_pred = model.predict(X_Test)\n",
    "    P = accuracy_score(Y_Test, y_pred)\n",
    "    \n",
    "    print(\"Performance:\", P)"
   ]
  },
  {
   "cell_type": "code",
   "execution_count": 218,
   "id": "45d795bd",
   "metadata": {},
   "outputs": [
    {
     "name": "stderr",
     "output_type": "stream",
     "text": [
      "C:\\Users\\Utilisateur\\anaconda3\\lib\\site-packages\\sklearn\\model_selection\\_split.py:666: UserWarning: The least populated class in y has only 2 members, which is less than n_splits=5.\n",
      "  warnings.warn((\"The least populated class in y has only %d\"\n"
     ]
    },
    {
     "ename": "ValueError",
     "evalue": "Invalid parameter C for estimator KNeighborsClassifier(). Check the list of available parameters with `estimator.get_params().keys()`.",
     "output_type": "error",
     "traceback": [
      "\u001b[1;31m---------------------------------------------------------------------------\u001b[0m",
      "\u001b[1;31mValueError\u001b[0m                                Traceback (most recent call last)",
      "\u001b[1;32mC:\\Users\\UTILIS~1\\AppData\\Local\\Temp/ipykernel_2656/1224652861.py\u001b[0m in \u001b[0;36m<module>\u001b[1;34m\u001b[0m\n\u001b[0;32m      9\u001b[0m         \u001b[0mKNN\u001b[0m\u001b[1;33m(\u001b[0m\u001b[1;33m)\u001b[0m\u001b[1;33m,\u001b[0m \u001b[0mparameters\u001b[0m\u001b[1;33m,\u001b[0m \u001b[0mscoring\u001b[0m\u001b[1;33m=\u001b[0m\u001b[1;34m'accuracy'\u001b[0m\u001b[1;33m\u001b[0m\u001b[1;33m\u001b[0m\u001b[0m\n\u001b[0;32m     10\u001b[0m     )\n\u001b[1;32m---> 11\u001b[1;33m \u001b[0mclf\u001b[0m\u001b[1;33m.\u001b[0m\u001b[0mfit\u001b[0m\u001b[1;33m(\u001b[0m\u001b[0mX_Train\u001b[0m\u001b[1;33m,\u001b[0m \u001b[0mY_Train\u001b[0m\u001b[1;33m)\u001b[0m\u001b[1;33m\u001b[0m\u001b[1;33m\u001b[0m\u001b[0m\n\u001b[0m\u001b[0;32m     12\u001b[0m \u001b[0mprint\u001b[0m\u001b[1;33m(\u001b[0m\u001b[0mclf\u001b[0m\u001b[1;33m.\u001b[0m\u001b[0mbest_params_\u001b[0m\u001b[1;33m)\u001b[0m\u001b[1;33m\u001b[0m\u001b[1;33m\u001b[0m\u001b[0m\n",
      "\u001b[1;32m~\\anaconda3\\lib\\site-packages\\sklearn\\utils\\validation.py\u001b[0m in \u001b[0;36minner_f\u001b[1;34m(*args, **kwargs)\u001b[0m\n\u001b[0;32m     61\u001b[0m             \u001b[0mextra_args\u001b[0m \u001b[1;33m=\u001b[0m \u001b[0mlen\u001b[0m\u001b[1;33m(\u001b[0m\u001b[0margs\u001b[0m\u001b[1;33m)\u001b[0m \u001b[1;33m-\u001b[0m \u001b[0mlen\u001b[0m\u001b[1;33m(\u001b[0m\u001b[0mall_args\u001b[0m\u001b[1;33m)\u001b[0m\u001b[1;33m\u001b[0m\u001b[1;33m\u001b[0m\u001b[0m\n\u001b[0;32m     62\u001b[0m             \u001b[1;32mif\u001b[0m \u001b[0mextra_args\u001b[0m \u001b[1;33m<=\u001b[0m \u001b[1;36m0\u001b[0m\u001b[1;33m:\u001b[0m\u001b[1;33m\u001b[0m\u001b[1;33m\u001b[0m\u001b[0m\n\u001b[1;32m---> 63\u001b[1;33m                 \u001b[1;32mreturn\u001b[0m \u001b[0mf\u001b[0m\u001b[1;33m(\u001b[0m\u001b[1;33m*\u001b[0m\u001b[0margs\u001b[0m\u001b[1;33m,\u001b[0m \u001b[1;33m**\u001b[0m\u001b[0mkwargs\u001b[0m\u001b[1;33m)\u001b[0m\u001b[1;33m\u001b[0m\u001b[1;33m\u001b[0m\u001b[0m\n\u001b[0m\u001b[0;32m     64\u001b[0m \u001b[1;33m\u001b[0m\u001b[0m\n\u001b[0;32m     65\u001b[0m             \u001b[1;31m# extra_args > 0\u001b[0m\u001b[1;33m\u001b[0m\u001b[1;33m\u001b[0m\u001b[0m\n",
      "\u001b[1;32m~\\anaconda3\\lib\\site-packages\\sklearn\\model_selection\\_search.py\u001b[0m in \u001b[0;36mfit\u001b[1;34m(self, X, y, groups, **fit_params)\u001b[0m\n\u001b[0;32m    839\u001b[0m                 \u001b[1;32mreturn\u001b[0m \u001b[0mresults\u001b[0m\u001b[1;33m\u001b[0m\u001b[1;33m\u001b[0m\u001b[0m\n\u001b[0;32m    840\u001b[0m \u001b[1;33m\u001b[0m\u001b[0m\n\u001b[1;32m--> 841\u001b[1;33m             \u001b[0mself\u001b[0m\u001b[1;33m.\u001b[0m\u001b[0m_run_search\u001b[0m\u001b[1;33m(\u001b[0m\u001b[0mevaluate_candidates\u001b[0m\u001b[1;33m)\u001b[0m\u001b[1;33m\u001b[0m\u001b[1;33m\u001b[0m\u001b[0m\n\u001b[0m\u001b[0;32m    842\u001b[0m \u001b[1;33m\u001b[0m\u001b[0m\n\u001b[0;32m    843\u001b[0m             \u001b[1;31m# multimetric is determined here because in the case of a callable\u001b[0m\u001b[1;33m\u001b[0m\u001b[1;33m\u001b[0m\u001b[0m\n",
      "\u001b[1;32m~\\anaconda3\\lib\\site-packages\\sklearn\\model_selection\\_search.py\u001b[0m in \u001b[0;36m_run_search\u001b[1;34m(self, evaluate_candidates)\u001b[0m\n\u001b[0;32m   1294\u001b[0m     \u001b[1;32mdef\u001b[0m \u001b[0m_run_search\u001b[0m\u001b[1;33m(\u001b[0m\u001b[0mself\u001b[0m\u001b[1;33m,\u001b[0m \u001b[0mevaluate_candidates\u001b[0m\u001b[1;33m)\u001b[0m\u001b[1;33m:\u001b[0m\u001b[1;33m\u001b[0m\u001b[1;33m\u001b[0m\u001b[0m\n\u001b[0;32m   1295\u001b[0m         \u001b[1;34m\"\"\"Search all candidates in param_grid\"\"\"\u001b[0m\u001b[1;33m\u001b[0m\u001b[1;33m\u001b[0m\u001b[0m\n\u001b[1;32m-> 1296\u001b[1;33m         \u001b[0mevaluate_candidates\u001b[0m\u001b[1;33m(\u001b[0m\u001b[0mParameterGrid\u001b[0m\u001b[1;33m(\u001b[0m\u001b[0mself\u001b[0m\u001b[1;33m.\u001b[0m\u001b[0mparam_grid\u001b[0m\u001b[1;33m)\u001b[0m\u001b[1;33m)\u001b[0m\u001b[1;33m\u001b[0m\u001b[1;33m\u001b[0m\u001b[0m\n\u001b[0m\u001b[0;32m   1297\u001b[0m \u001b[1;33m\u001b[0m\u001b[0m\n\u001b[0;32m   1298\u001b[0m \u001b[1;33m\u001b[0m\u001b[0m\n",
      "\u001b[1;32m~\\anaconda3\\lib\\site-packages\\sklearn\\model_selection\\_search.py\u001b[0m in \u001b[0;36mevaluate_candidates\u001b[1;34m(candidate_params, cv, more_results)\u001b[0m\n\u001b[0;32m    793\u001b[0m                               n_splits, n_candidates, n_candidates * n_splits))\n\u001b[0;32m    794\u001b[0m \u001b[1;33m\u001b[0m\u001b[0m\n\u001b[1;32m--> 795\u001b[1;33m                 out = parallel(delayed(_fit_and_score)(clone(base_estimator),\n\u001b[0m\u001b[0;32m    796\u001b[0m                                                        \u001b[0mX\u001b[0m\u001b[1;33m,\u001b[0m \u001b[0my\u001b[0m\u001b[1;33m,\u001b[0m\u001b[1;33m\u001b[0m\u001b[1;33m\u001b[0m\u001b[0m\n\u001b[0;32m    797\u001b[0m                                                        \u001b[0mtrain\u001b[0m\u001b[1;33m=\u001b[0m\u001b[0mtrain\u001b[0m\u001b[1;33m,\u001b[0m \u001b[0mtest\u001b[0m\u001b[1;33m=\u001b[0m\u001b[0mtest\u001b[0m\u001b[1;33m,\u001b[0m\u001b[1;33m\u001b[0m\u001b[1;33m\u001b[0m\u001b[0m\n",
      "\u001b[1;32m~\\anaconda3\\lib\\site-packages\\joblib\\parallel.py\u001b[0m in \u001b[0;36m__call__\u001b[1;34m(self, iterable)\u001b[0m\n\u001b[0;32m   1041\u001b[0m             \u001b[1;31m# remaining jobs.\u001b[0m\u001b[1;33m\u001b[0m\u001b[1;33m\u001b[0m\u001b[0m\n\u001b[0;32m   1042\u001b[0m             \u001b[0mself\u001b[0m\u001b[1;33m.\u001b[0m\u001b[0m_iterating\u001b[0m \u001b[1;33m=\u001b[0m \u001b[1;32mFalse\u001b[0m\u001b[1;33m\u001b[0m\u001b[1;33m\u001b[0m\u001b[0m\n\u001b[1;32m-> 1043\u001b[1;33m             \u001b[1;32mif\u001b[0m \u001b[0mself\u001b[0m\u001b[1;33m.\u001b[0m\u001b[0mdispatch_one_batch\u001b[0m\u001b[1;33m(\u001b[0m\u001b[0miterator\u001b[0m\u001b[1;33m)\u001b[0m\u001b[1;33m:\u001b[0m\u001b[1;33m\u001b[0m\u001b[1;33m\u001b[0m\u001b[0m\n\u001b[0m\u001b[0;32m   1044\u001b[0m                 \u001b[0mself\u001b[0m\u001b[1;33m.\u001b[0m\u001b[0m_iterating\u001b[0m \u001b[1;33m=\u001b[0m \u001b[0mself\u001b[0m\u001b[1;33m.\u001b[0m\u001b[0m_original_iterator\u001b[0m \u001b[1;32mis\u001b[0m \u001b[1;32mnot\u001b[0m \u001b[1;32mNone\u001b[0m\u001b[1;33m\u001b[0m\u001b[1;33m\u001b[0m\u001b[0m\n\u001b[0;32m   1045\u001b[0m \u001b[1;33m\u001b[0m\u001b[0m\n",
      "\u001b[1;32m~\\anaconda3\\lib\\site-packages\\joblib\\parallel.py\u001b[0m in \u001b[0;36mdispatch_one_batch\u001b[1;34m(self, iterator)\u001b[0m\n\u001b[0;32m    859\u001b[0m                 \u001b[1;32mreturn\u001b[0m \u001b[1;32mFalse\u001b[0m\u001b[1;33m\u001b[0m\u001b[1;33m\u001b[0m\u001b[0m\n\u001b[0;32m    860\u001b[0m             \u001b[1;32melse\u001b[0m\u001b[1;33m:\u001b[0m\u001b[1;33m\u001b[0m\u001b[1;33m\u001b[0m\u001b[0m\n\u001b[1;32m--> 861\u001b[1;33m                 \u001b[0mself\u001b[0m\u001b[1;33m.\u001b[0m\u001b[0m_dispatch\u001b[0m\u001b[1;33m(\u001b[0m\u001b[0mtasks\u001b[0m\u001b[1;33m)\u001b[0m\u001b[1;33m\u001b[0m\u001b[1;33m\u001b[0m\u001b[0m\n\u001b[0m\u001b[0;32m    862\u001b[0m                 \u001b[1;32mreturn\u001b[0m \u001b[1;32mTrue\u001b[0m\u001b[1;33m\u001b[0m\u001b[1;33m\u001b[0m\u001b[0m\n\u001b[0;32m    863\u001b[0m \u001b[1;33m\u001b[0m\u001b[0m\n",
      "\u001b[1;32m~\\anaconda3\\lib\\site-packages\\joblib\\parallel.py\u001b[0m in \u001b[0;36m_dispatch\u001b[1;34m(self, batch)\u001b[0m\n\u001b[0;32m    777\u001b[0m         \u001b[1;32mwith\u001b[0m \u001b[0mself\u001b[0m\u001b[1;33m.\u001b[0m\u001b[0m_lock\u001b[0m\u001b[1;33m:\u001b[0m\u001b[1;33m\u001b[0m\u001b[1;33m\u001b[0m\u001b[0m\n\u001b[0;32m    778\u001b[0m             \u001b[0mjob_idx\u001b[0m \u001b[1;33m=\u001b[0m \u001b[0mlen\u001b[0m\u001b[1;33m(\u001b[0m\u001b[0mself\u001b[0m\u001b[1;33m.\u001b[0m\u001b[0m_jobs\u001b[0m\u001b[1;33m)\u001b[0m\u001b[1;33m\u001b[0m\u001b[1;33m\u001b[0m\u001b[0m\n\u001b[1;32m--> 779\u001b[1;33m             \u001b[0mjob\u001b[0m \u001b[1;33m=\u001b[0m \u001b[0mself\u001b[0m\u001b[1;33m.\u001b[0m\u001b[0m_backend\u001b[0m\u001b[1;33m.\u001b[0m\u001b[0mapply_async\u001b[0m\u001b[1;33m(\u001b[0m\u001b[0mbatch\u001b[0m\u001b[1;33m,\u001b[0m \u001b[0mcallback\u001b[0m\u001b[1;33m=\u001b[0m\u001b[0mcb\u001b[0m\u001b[1;33m)\u001b[0m\u001b[1;33m\u001b[0m\u001b[1;33m\u001b[0m\u001b[0m\n\u001b[0m\u001b[0;32m    780\u001b[0m             \u001b[1;31m# A job can complete so quickly than its callback is\u001b[0m\u001b[1;33m\u001b[0m\u001b[1;33m\u001b[0m\u001b[0m\n\u001b[0;32m    781\u001b[0m             \u001b[1;31m# called before we get here, causing self._jobs to\u001b[0m\u001b[1;33m\u001b[0m\u001b[1;33m\u001b[0m\u001b[0m\n",
      "\u001b[1;32m~\\anaconda3\\lib\\site-packages\\joblib\\_parallel_backends.py\u001b[0m in \u001b[0;36mapply_async\u001b[1;34m(self, func, callback)\u001b[0m\n\u001b[0;32m    206\u001b[0m     \u001b[1;32mdef\u001b[0m \u001b[0mapply_async\u001b[0m\u001b[1;33m(\u001b[0m\u001b[0mself\u001b[0m\u001b[1;33m,\u001b[0m \u001b[0mfunc\u001b[0m\u001b[1;33m,\u001b[0m \u001b[0mcallback\u001b[0m\u001b[1;33m=\u001b[0m\u001b[1;32mNone\u001b[0m\u001b[1;33m)\u001b[0m\u001b[1;33m:\u001b[0m\u001b[1;33m\u001b[0m\u001b[1;33m\u001b[0m\u001b[0m\n\u001b[0;32m    207\u001b[0m         \u001b[1;34m\"\"\"Schedule a func to be run\"\"\"\u001b[0m\u001b[1;33m\u001b[0m\u001b[1;33m\u001b[0m\u001b[0m\n\u001b[1;32m--> 208\u001b[1;33m         \u001b[0mresult\u001b[0m \u001b[1;33m=\u001b[0m \u001b[0mImmediateResult\u001b[0m\u001b[1;33m(\u001b[0m\u001b[0mfunc\u001b[0m\u001b[1;33m)\u001b[0m\u001b[1;33m\u001b[0m\u001b[1;33m\u001b[0m\u001b[0m\n\u001b[0m\u001b[0;32m    209\u001b[0m         \u001b[1;32mif\u001b[0m \u001b[0mcallback\u001b[0m\u001b[1;33m:\u001b[0m\u001b[1;33m\u001b[0m\u001b[1;33m\u001b[0m\u001b[0m\n\u001b[0;32m    210\u001b[0m             \u001b[0mcallback\u001b[0m\u001b[1;33m(\u001b[0m\u001b[0mresult\u001b[0m\u001b[1;33m)\u001b[0m\u001b[1;33m\u001b[0m\u001b[1;33m\u001b[0m\u001b[0m\n",
      "\u001b[1;32m~\\anaconda3\\lib\\site-packages\\joblib\\_parallel_backends.py\u001b[0m in \u001b[0;36m__init__\u001b[1;34m(self, batch)\u001b[0m\n\u001b[0;32m    570\u001b[0m         \u001b[1;31m# Don't delay the application, to avoid keeping the input\u001b[0m\u001b[1;33m\u001b[0m\u001b[1;33m\u001b[0m\u001b[0m\n\u001b[0;32m    571\u001b[0m         \u001b[1;31m# arguments in memory\u001b[0m\u001b[1;33m\u001b[0m\u001b[1;33m\u001b[0m\u001b[0m\n\u001b[1;32m--> 572\u001b[1;33m         \u001b[0mself\u001b[0m\u001b[1;33m.\u001b[0m\u001b[0mresults\u001b[0m \u001b[1;33m=\u001b[0m \u001b[0mbatch\u001b[0m\u001b[1;33m(\u001b[0m\u001b[1;33m)\u001b[0m\u001b[1;33m\u001b[0m\u001b[1;33m\u001b[0m\u001b[0m\n\u001b[0m\u001b[0;32m    573\u001b[0m \u001b[1;33m\u001b[0m\u001b[0m\n\u001b[0;32m    574\u001b[0m     \u001b[1;32mdef\u001b[0m \u001b[0mget\u001b[0m\u001b[1;33m(\u001b[0m\u001b[0mself\u001b[0m\u001b[1;33m)\u001b[0m\u001b[1;33m:\u001b[0m\u001b[1;33m\u001b[0m\u001b[1;33m\u001b[0m\u001b[0m\n",
      "\u001b[1;32m~\\anaconda3\\lib\\site-packages\\joblib\\parallel.py\u001b[0m in \u001b[0;36m__call__\u001b[1;34m(self)\u001b[0m\n\u001b[0;32m    260\u001b[0m         \u001b[1;31m# change the default number of processes to -1\u001b[0m\u001b[1;33m\u001b[0m\u001b[1;33m\u001b[0m\u001b[0m\n\u001b[0;32m    261\u001b[0m         \u001b[1;32mwith\u001b[0m \u001b[0mparallel_backend\u001b[0m\u001b[1;33m(\u001b[0m\u001b[0mself\u001b[0m\u001b[1;33m.\u001b[0m\u001b[0m_backend\u001b[0m\u001b[1;33m,\u001b[0m \u001b[0mn_jobs\u001b[0m\u001b[1;33m=\u001b[0m\u001b[0mself\u001b[0m\u001b[1;33m.\u001b[0m\u001b[0m_n_jobs\u001b[0m\u001b[1;33m)\u001b[0m\u001b[1;33m:\u001b[0m\u001b[1;33m\u001b[0m\u001b[1;33m\u001b[0m\u001b[0m\n\u001b[1;32m--> 262\u001b[1;33m             return [func(*args, **kwargs)\n\u001b[0m\u001b[0;32m    263\u001b[0m                     for func, args, kwargs in self.items]\n\u001b[0;32m    264\u001b[0m \u001b[1;33m\u001b[0m\u001b[0m\n",
      "\u001b[1;32m~\\anaconda3\\lib\\site-packages\\joblib\\parallel.py\u001b[0m in \u001b[0;36m<listcomp>\u001b[1;34m(.0)\u001b[0m\n\u001b[0;32m    260\u001b[0m         \u001b[1;31m# change the default number of processes to -1\u001b[0m\u001b[1;33m\u001b[0m\u001b[1;33m\u001b[0m\u001b[0m\n\u001b[0;32m    261\u001b[0m         \u001b[1;32mwith\u001b[0m \u001b[0mparallel_backend\u001b[0m\u001b[1;33m(\u001b[0m\u001b[0mself\u001b[0m\u001b[1;33m.\u001b[0m\u001b[0m_backend\u001b[0m\u001b[1;33m,\u001b[0m \u001b[0mn_jobs\u001b[0m\u001b[1;33m=\u001b[0m\u001b[0mself\u001b[0m\u001b[1;33m.\u001b[0m\u001b[0m_n_jobs\u001b[0m\u001b[1;33m)\u001b[0m\u001b[1;33m:\u001b[0m\u001b[1;33m\u001b[0m\u001b[1;33m\u001b[0m\u001b[0m\n\u001b[1;32m--> 262\u001b[1;33m             return [func(*args, **kwargs)\n\u001b[0m\u001b[0;32m    263\u001b[0m                     for func, args, kwargs in self.items]\n\u001b[0;32m    264\u001b[0m \u001b[1;33m\u001b[0m\u001b[0m\n",
      "\u001b[1;32m~\\anaconda3\\lib\\site-packages\\sklearn\\utils\\fixes.py\u001b[0m in \u001b[0;36m__call__\u001b[1;34m(self, *args, **kwargs)\u001b[0m\n\u001b[0;32m    220\u001b[0m     \u001b[1;32mdef\u001b[0m \u001b[0m__call__\u001b[0m\u001b[1;33m(\u001b[0m\u001b[0mself\u001b[0m\u001b[1;33m,\u001b[0m \u001b[1;33m*\u001b[0m\u001b[0margs\u001b[0m\u001b[1;33m,\u001b[0m \u001b[1;33m**\u001b[0m\u001b[0mkwargs\u001b[0m\u001b[1;33m)\u001b[0m\u001b[1;33m:\u001b[0m\u001b[1;33m\u001b[0m\u001b[1;33m\u001b[0m\u001b[0m\n\u001b[0;32m    221\u001b[0m         \u001b[1;32mwith\u001b[0m \u001b[0mconfig_context\u001b[0m\u001b[1;33m(\u001b[0m\u001b[1;33m**\u001b[0m\u001b[0mself\u001b[0m\u001b[1;33m.\u001b[0m\u001b[0mconfig\u001b[0m\u001b[1;33m)\u001b[0m\u001b[1;33m:\u001b[0m\u001b[1;33m\u001b[0m\u001b[1;33m\u001b[0m\u001b[0m\n\u001b[1;32m--> 222\u001b[1;33m             \u001b[1;32mreturn\u001b[0m \u001b[0mself\u001b[0m\u001b[1;33m.\u001b[0m\u001b[0mfunction\u001b[0m\u001b[1;33m(\u001b[0m\u001b[1;33m*\u001b[0m\u001b[0margs\u001b[0m\u001b[1;33m,\u001b[0m \u001b[1;33m**\u001b[0m\u001b[0mkwargs\u001b[0m\u001b[1;33m)\u001b[0m\u001b[1;33m\u001b[0m\u001b[1;33m\u001b[0m\u001b[0m\n\u001b[0m",
      "\u001b[1;32m~\\anaconda3\\lib\\site-packages\\sklearn\\model_selection\\_validation.py\u001b[0m in \u001b[0;36m_fit_and_score\u001b[1;34m(estimator, X, y, scorer, train, test, verbose, parameters, fit_params, return_train_score, return_parameters, return_n_test_samples, return_times, return_estimator, split_progress, candidate_progress, error_score)\u001b[0m\n\u001b[0;32m    584\u001b[0m             \u001b[0mcloned_parameters\u001b[0m\u001b[1;33m[\u001b[0m\u001b[0mk\u001b[0m\u001b[1;33m]\u001b[0m \u001b[1;33m=\u001b[0m \u001b[0mclone\u001b[0m\u001b[1;33m(\u001b[0m\u001b[0mv\u001b[0m\u001b[1;33m,\u001b[0m \u001b[0msafe\u001b[0m\u001b[1;33m=\u001b[0m\u001b[1;32mFalse\u001b[0m\u001b[1;33m)\u001b[0m\u001b[1;33m\u001b[0m\u001b[1;33m\u001b[0m\u001b[0m\n\u001b[0;32m    585\u001b[0m \u001b[1;33m\u001b[0m\u001b[0m\n\u001b[1;32m--> 586\u001b[1;33m         \u001b[0mestimator\u001b[0m \u001b[1;33m=\u001b[0m \u001b[0mestimator\u001b[0m\u001b[1;33m.\u001b[0m\u001b[0mset_params\u001b[0m\u001b[1;33m(\u001b[0m\u001b[1;33m**\u001b[0m\u001b[0mcloned_parameters\u001b[0m\u001b[1;33m)\u001b[0m\u001b[1;33m\u001b[0m\u001b[1;33m\u001b[0m\u001b[0m\n\u001b[0m\u001b[0;32m    587\u001b[0m \u001b[1;33m\u001b[0m\u001b[0m\n\u001b[0;32m    588\u001b[0m     \u001b[0mstart_time\u001b[0m \u001b[1;33m=\u001b[0m \u001b[0mtime\u001b[0m\u001b[1;33m.\u001b[0m\u001b[0mtime\u001b[0m\u001b[1;33m(\u001b[0m\u001b[1;33m)\u001b[0m\u001b[1;33m\u001b[0m\u001b[1;33m\u001b[0m\u001b[0m\n",
      "\u001b[1;32m~\\anaconda3\\lib\\site-packages\\sklearn\\base.py\u001b[0m in \u001b[0;36mset_params\u001b[1;34m(self, **params)\u001b[0m\n\u001b[0;32m    228\u001b[0m             \u001b[0mkey\u001b[0m\u001b[1;33m,\u001b[0m \u001b[0mdelim\u001b[0m\u001b[1;33m,\u001b[0m \u001b[0msub_key\u001b[0m \u001b[1;33m=\u001b[0m \u001b[0mkey\u001b[0m\u001b[1;33m.\u001b[0m\u001b[0mpartition\u001b[0m\u001b[1;33m(\u001b[0m\u001b[1;34m'__'\u001b[0m\u001b[1;33m)\u001b[0m\u001b[1;33m\u001b[0m\u001b[1;33m\u001b[0m\u001b[0m\n\u001b[0;32m    229\u001b[0m             \u001b[1;32mif\u001b[0m \u001b[0mkey\u001b[0m \u001b[1;32mnot\u001b[0m \u001b[1;32min\u001b[0m \u001b[0mvalid_params\u001b[0m\u001b[1;33m:\u001b[0m\u001b[1;33m\u001b[0m\u001b[1;33m\u001b[0m\u001b[0m\n\u001b[1;32m--> 230\u001b[1;33m                 raise ValueError('Invalid parameter %s for estimator %s. '\n\u001b[0m\u001b[0;32m    231\u001b[0m                                  \u001b[1;34m'Check the list of available parameters '\u001b[0m\u001b[1;33m\u001b[0m\u001b[1;33m\u001b[0m\u001b[0m\n\u001b[0;32m    232\u001b[0m                                  \u001b[1;34m'with `estimator.get_params().keys()`.'\u001b[0m \u001b[1;33m%\u001b[0m\u001b[1;33m\u001b[0m\u001b[1;33m\u001b[0m\u001b[0m\n",
      "\u001b[1;31mValueError\u001b[0m: Invalid parameter C for estimator KNeighborsClassifier(). Check the list of available parameters with `estimator.get_params().keys()`."
     ]
    }
   ],
   "source": [
    "from sklearn.model_selection import GridSearchCV\n",
    "\n",
    "parameters = [{\n",
    "'kernel': ['linear', 'poly', 'rbf', 'sigmoid', 'precomputed'], \n",
    "'C': [1,2,3,10,20],\n",
    "'max_iter': [1000,100000]}]\n",
    "\n",
    "clf = GridSearchCV(\n",
    "        KNN(), parameters, scoring='accuracy'\n",
    "    )\n",
    "clf.fit(X_Train, Y_Train)\n",
    "print(clf.best_params_)"
   ]
  },
  {
   "cell_type": "code",
   "execution_count": 216,
   "id": "6ef3ef2e",
   "metadata": {},
   "outputs": [
    {
     "name": "stdout",
     "output_type": "stream",
     "text": [
      "{'svc__C': 1, 'svc__kernel': 'rbf'}\n"
     ]
    }
   ],
   "source": [
    "from sklearn.preprocessing import StandardScaler\n",
    "\n",
    "from sklearn.neighbors import KNeighborsClassifier\n",
    "from sklearn.svm import SVC\n",
    "from sklearn.ensemble import RandomForestClassifier\n",
    "\n",
    "from sklearn.pipeline import Pipeline\n",
    "\n",
    "from sklearn.model_selection import GridSearchCV\n",
    "\n",
    "pipe = Pipeline([('scaler', StandardScaler()),\n",
    "                 ('svc', SVC())])\n",
    "\n",
    "parameters = { 'svc__kernel': ['linear', 'rbf'],\n",
    "               'svc__C':[1, 10]}\n",
    "\n",
    "Exp = GridSearchCV(pipe, \n",
    "                   param_grid = parameters, \n",
    "                   cv = 2)\n",
    "\n",
    "Exp.fit(X_Train, Y_Train)\n",
    "print(Exp.best_params_)"
   ]
  }
 ],
 "metadata": {
  "kernelspec": {
   "display_name": "Python 3 (ipykernel)",
   "language": "python",
   "name": "python3"
  },
  "language_info": {
   "codemirror_mode": {
    "name": "ipython",
    "version": 3
   },
   "file_extension": ".py",
   "mimetype": "text/x-python",
   "name": "python",
   "nbconvert_exporter": "python",
   "pygments_lexer": "ipython3",
   "version": "3.9.7"
  }
 },
 "nbformat": 4,
 "nbformat_minor": 5
}

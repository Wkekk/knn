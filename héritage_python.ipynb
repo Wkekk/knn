{
 "cells": [
  {
   "cell_type": "markdown",
   "id": "3cd21275",
   "metadata": {},
   "source": [
    "# Héritage et polymorphisme en Python\n",
    "\n",
    "## Introduction\n",
    "\n",
    "En Programmation Orientée Objet, l’Héritage permet de définir une classe par rapport à une autre.\n",
    "\n",
    "Dans de nombreux langages, l’héritage est implémenté par une classe de base, qui est étendue pour ajouter des méthodes et des attributs.\n",
    "\n",
    "C’est le cas pour Python, dont la classe de base est `Object`\n",
    "\n",
    "\n",
    "## L'héritage dans Python\n",
    "(mettre image ici)\n",
    "Par défaut, la sous-classe hérite de toutes les variables et fonctions de la classe parent (et notamment de sa fonction __init__()) et peut également définir ses propres variables et fonctions. On va ensuite pouvoir instancier la classe enfant pour créer de nouveaux objets et ces objets vont avoir accès aux variables et fonctions définies à la fois dans la sous-classe et dans la classe de base.\n",
    "\n"
   ]
  },
  {
   "cell_type": "markdown",
   "id": "63a6038b",
   "metadata": {},
   "source": [
    "## La méthode de substitution\n",
    "\n",
    "Une classe héritant d’une autre récupère aussi ses méthodes mais en initialisant des méthode dans la classe fille ayant le même nom que dans la classe mère on peut surcharger (override) ou substituer une méthode. La méthode créée dans la classe fille aura la priorité lors des appels.\n"
   ]
  },
  {
   "cell_type": "code",
   "execution_count": 2,
   "id": "2bda1295",
   "metadata": {},
   "outputs": [
    {
     "name": "stdout",
     "output_type": "stream",
     "text": [
      "True\n",
      "Teddy mange une pomme\n"
     ]
    }
   ],
   "source": [
    "class Personne :\n",
    "    def __init__(self, nom, prenom) :\n",
    "        self.nom = nom\n",
    "        self.prenom = prenom\n",
    "\n",
    "    estUnePersonne = True\n",
    "    \n",
    "\n",
    "    def manger(self) :\n",
    "        print(self.prenom, 'mange des chips')\n",
    "\n",
    "class Sportif(Personne) :\n",
    "    def __init__ (self, nom, prenom, sport) :\n",
    "        self.nom = nom\n",
    "        self.prenom = prenom\n",
    "        self.sport = sport\n",
    "\n",
    "    def manger(self) :\n",
    "        print(self.prenom, 'mange une pomme')\n",
    "\n",
    "\n",
    "x = Sportif('Riner', 'Teddy', 'Judo')\n",
    "print(x.estUnePersonne)\n",
    "x.manger()\n"
   ]
  },
  {
   "cell_type": "markdown",
   "id": "dea23970",
   "metadata": {},
   "source": [
    "## La méthode abstraite\n",
    "Une méthode abstraite est une définition qui reste à écrire : on sait qu’elle doit être là, mais on ne sait pas encore comment ce sera fait.\n",
    "Dans beaucoup de langages, on peut définir des fonctions comme étant abstraite, mais ce n’est pas le cas en Python.\n",
    "Une convention est de déclarer une fonction qui lève une exception, et qui devra donc être redéfinie dans la classe fille.\n"
   ]
  },
  {
   "cell_type": "code",
   "execution_count": 3,
   "id": "3e25c1ca",
   "metadata": {},
   "outputs": [],
   "source": [
    "# Cette méthode ne peut pas être utilisée car elle lance toujours une erreur.\n",
    "def show(self):\n",
    "    raise NotImplementedError(\"Subclass must implement abstract method\") \n"
   ]
  },
  {
   "cell_type": "markdown",
   "id": "25695e11",
   "metadata": {},
   "source": [
    "## L'héritage multiple\n",
    "\n",
    "En python, contrairement à java ou C#, on peut utiliser l’héritage multiple, c’est à dire qu’une classe peut hériter de plusieurs autres classes (indépendamment de la ligne d’héritage d’une classe mère)\n"
   ]
  },
  {
   "cell_type": "code",
   "execution_count": 4,
   "id": "fdaa01e2",
   "metadata": {},
   "outputs": [
    {
     "name": "stdout",
     "output_type": "stream",
     "text": [
      "Max height  200\n",
      "Mule run\n",
      "Name: (Horse's method):  Mule\n",
      "-- Call Mule.showInfo: --\n",
      "Horse Info\n",
      "Donkey Info\n"
     ]
    }
   ],
   "source": [
    "class Horse: \n",
    "    maxHeight = 200; # centimeter\n",
    "    \n",
    "    def __init__(self, name, horsehair):\n",
    "        self.name = name\n",
    "        self.horsehair = horsehair \n",
    "\n",
    "    def run(self):\n",
    "        print (\"Horse run\")   \n",
    "     \n",
    "    def showName(self):\n",
    "        print (\"Name: (Horse's method): \", self.name)   \n",
    "        \n",
    "    def showInfo(self):\n",
    "        print (\"Horse Info\")   \n",
    "\n",
    "class Donkey: \n",
    "    def __init__(self, name, weight):        \n",
    "        self.name = name\n",
    "        self.weight = weight   \n",
    "        \n",
    "    def run(self):\n",
    "        print (\"Donkey run\")     \n",
    "        \n",
    "    def showName(self):        \n",
    "        print (\"Name: (Donkey's method): \", self.name)   \n",
    "\n",
    "    def showInfo(self):\n",
    "        print (\"Donkey Info\")               \n",
    "  \n",
    "# La classe Mule hérite de la classe Horse et Donkey.\n",
    "class Mule(Horse, Donkey): \n",
    "    def __init__(self, name, hair, weight): \n",
    "        Horse.__init__(self, name, hair)  \n",
    "        Donkey.__init__(self, name, weight) \n",
    "    \n",
    "    def run(self):   \n",
    "        print (\"Mule run\")   \n",
    "\n",
    "    def showInfo(self):\n",
    "        print (\"-- Call Mule.showInfo: --\")\n",
    "        Horse.showInfo(self)\n",
    "        Donkey.showInfo(self) \n",
    "# ---- Test ------------------------------------\n",
    "# La variable 'maxHeight', a hérité de la classe Horse.\n",
    "print (\"Max height \", Mule.maxHeight)\n",
    "\n",
    "mule = Mule(\"Mule\", 20, 1000) \n",
    "mule.run() \n",
    "mule.showName()  \n",
    "mule.showInfo()"
   ]
  },
  {
   "cell_type": "markdown",
   "id": "c0450a17",
   "metadata": {},
   "source": [
    "## Le polymorphisme avec fonction\n"
   ]
  },
  {
   "cell_type": "code",
   "execution_count": 5,
   "id": "2234e625",
   "metadata": {},
   "outputs": [
    {
     "name": "stdout",
     "output_type": "stream",
     "text": [
      "nom Ferrari nb roues 4 nb moteur 1\n"
     ]
    }
   ],
   "source": [
    "# Création d’une classe Voiture :\n",
    "class Voiture:\n",
    "\n",
    "    roues = 4\n",
    "    moteur = 1\n",
    "\n",
    "    def __init__(self):\n",
    "        self.nom = \"A déterminer\"\n",
    "\n",
    "# Création de la classe VoitureSport qui héritera des paramètres de la classe Voiture:\n",
    "# ( roues et moteur)\n",
    "\n",
    "class VoitureSport(Voiture):\n",
    "\n",
    "    def __init__(self):\n",
    "        self.nom = \"Ferrari\"\n",
    "\n",
    "# On a indiqué que VoitureSport a hérité de classe Voiture , elle recupère donc toutes ses méthodes et ses attributs.\n",
    "\n",
    "ma_voiture_sport=VoitureSport()  # Création de l’objet ma_voiture_sport\n",
    "\n",
    "print (\"nom\", ma_voiture_sport.nom,\"nb roues\", ma_voiture_sport.roues, \"nb moteur\", ma_voiture_sport.moteur)\n"
   ]
  },
  {
   "cell_type": "markdown",
   "id": "e972f901",
   "metadata": {},
   "source": [
    "## Le polymorphisme avec python\n",
    "\n",
    "### Le polymorphisme \n",
    "\n",
    "Le polymorphisme permet de définir des méthodes dans la classe enfant qui ont le même nom que les méthodes de la classe parent. Cela permet d’appeler de la même manière des méthodes d’objets différents qui ont un comportement différent.\n",
    "\n",
    "Dans notre exemple, si l’on crée une méthode qui permet de déplacer une Voiture, une voitureSport() se déplaçant plus vite, il faut remplacer la méthode move() afin qu’elle corresponde à l’objet en question :\n"
   ]
  },
  {
   "cell_type": "code",
   "execution_count": 6,
   "id": "4e39fa91",
   "metadata": {},
   "outputs": [],
   "source": [
    "class Voiture:\n",
    "\n",
    "    roues = 4\n",
    "    moteur = 1\n",
    "    position = 0\n",
    "\n",
    "    def __init__(self):\n",
    "            self.nom = \"A déterminer\"\n",
    "\n",
    "    def move(self):\n",
    "        self.position += 50\n",
    "\n",
    "class VoitureSport(Voiture):\n",
    "\n",
    "    def __init__(self):\n",
    "            self.nom = \"Ferrari\"\n",
    "\n"
   ]
  }
 ],
 "metadata": {
  "kernelspec": {
   "display_name": "Python 3 (ipykernel)",
   "language": "python",
   "name": "python3"
  },
  "language_info": {
   "codemirror_mode": {
    "name": "ipython",
    "version": 3
   },
   "file_extension": ".py",
   "mimetype": "text/x-python",
   "name": "python",
   "nbconvert_exporter": "python",
   "pygments_lexer": "ipython3",
   "version": "3.9.7"
  }
 },
 "nbformat": 4,
 "nbformat_minor": 5
}
